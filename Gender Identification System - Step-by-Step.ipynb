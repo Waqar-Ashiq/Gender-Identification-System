{
 "cells": [
  {
   "cell_type": "markdown",
   "metadata": {
    "slideshow": {
     "slide_type": "-"
    }
   },
   "source": [
    "<center> <h1> Machine Learning Assignment</h1> </center>\n",
    "<center> <h1> Gender Identification using Scikit-Learn </h1> </center>\n",
    "<center> <h1> (Step-wise Tutorial)</h1> </center>\n",
    "<br>\n",
    "<center> <h1> Instructor: Dr. Rao Muhammad Adeel Nawab </h1></center>\n",
    "<br>\n",
    "<center> <h1> Submitted by: Waqar Ashiq </h1></center>"
   ]
  },
  {
   "cell_type": "markdown",
   "metadata": {},
   "source": [
    "**Overview**<br>\n",
    "The main objective of this tutorial is to provide the complete understanding of gender identification using Machine Learning toolkit (scikit-learn). In this tutorial, we are going to use the structured dataset about male and female. The dataset consists of set of input attributes (Height, Weight, Hair Length, Beard, Scarf) and ouput attribute (Male, Female). The task is to predict male and female from input attributes using Machine Learning algorithms. <br><br>\n",
    "**Machine Learning Approach:** <br>The problem of Gender Identication is treated as a supervised learning approach because we going to use the labelled dataset.<br><br> **The Input and Output are:**<br>\n",
    "<b> - Input:</b> Set of Attributes (Height, Weight, Hair Length, Beard, Scarf))<br><br>\n",
    "<b> - Output:</b> Gender (Male/Female)<br><br>\n",
    "<b> - Goal:</b> Learn from Input to predict Output<br><br>\n",
    "    \n",
    "<h3> Three Phases of Machine Learning: </h3><br><br>\n",
    "<b>1. Training Phase </b>– Learn from Training Dataset.<br><br>\n",
    "<b>2. Testing/Validation/Evaluation Phase</b> – Evaluate how well the algorithm learned.<br><br>\n",
    "<b>3. Application Phase</b>– Use your learned/trained models in real world application.<br><br>\n"
   ]
  },
  {
   "cell_type": "markdown",
   "metadata": {},
   "source": [
    "<center><h1> Table of Contents </h1></center>\n",
    "<h2>PHASE 1 & 2: TRAINING AND TESTING </h2>\n",
    "\n",
    "**Step 1:** Import Libraries<br><br>\n",
    "**Step 2:** Read, Understand and Pre-process Train/Test Data<br><br>\n",
    "**Step 2.1:** Read Data<br><br>\n",
    "**Step 2.2:** Understand Data<br><br>\n",
    "**Step 2.3:** Pre-process Data<br><br>\n",
    "**Step 3:** Label Encoding for Train/Test Data<br><br>\n",
    "**Step 4:** Feature Extraction – Changing Representation of features “from String to Feature-Vector”<br><br>\n",
    "**Step 5:** Train Machine Learning Algorithms using Training Data<br><br>\n",
    "**Step 6:** Evaluate Machine Learning Algorithms using Test Data<br><br>\n",
    "**Step 7:** Selection of Best Model<br><br><br><br>\n",
    "\n",
    "\n",
    "<h2> PHASE 3: APPLICATION PHASE</h2><br>\n",
    "**Step 8:** Application Phase<br><br>\n",
    "**Step 8.1:** Combine Dataset (Train + Test )¶<br><br>\n",
    "**Step 8.2:** Train Best Model (see Step 7) on all data(Train+Test)<br><br>\n",
    "**Step 8.3:** Save the Trained Model in Pickle File<br><br>\n",
    "**Step 9:** Make predictions on unseen/new data<br><br>\n",
    "**Step 9.1:** Load the Trained Model (saved in Step 8.3)<br><br>\n",
    "**Step 9.2:** Take Input from User<br><br>\n",
    "**Step 9.3:** Convert User Input into Feature Vector (Same as Feature Vector of Trained Model)<br><br>\n",
    "**Step 9.4:** Apply Trained Model on Feature Vector of Unseen Dataset and Output Prediction (Male/Female) to User\n"
   ]
  },
  {
   "cell_type": "markdown",
   "metadata": {},
   "source": [
    "# Step 1: Import Libraries"
   ]
  },
  {
   "cell_type": "code",
   "execution_count": 1,
   "metadata": {},
   "outputs": [],
   "source": [
    "import re\n",
    "import scipy\n",
    "import string\n",
    "import pickle\n",
    "import warnings\n",
    "import numpy as np\n",
    "import pandas as pd\n",
    "import matplotlib.pyplot as plt\n",
    "\n",
    "from sklearn.preprocessing import LabelEncoder            \n",
    "from sklearn.svm import LinearSVC             \n",
    "from sklearn.naive_bayes import BernoulliNB\n",
    "from sklearn.ensemble import RandomForestClassifier          \n",
    "from sklearn.linear_model import LogisticRegression\n",
    "from sklearn.metrics import accuracy_score    \n",
    "\n",
    "from prettytable import PrettyTable   \n",
    "from astropy.table import Table, Column \n"
   ]
  },
  {
   "cell_type": "markdown",
   "metadata": {},
   "source": [
    "# Step 2: Read, Understand & Pre-process Train/Test Data"
   ]
  },
  {
   "cell_type": "code",
   "execution_count": 5,
   "metadata": {},
   "outputs": [
    {
     "name": "stdout",
     "output_type": "stream",
     "text": [
      "\n",
      "Train Dataset:\n",
      "==============\n",
      "\n",
      "index    height  weight    hair beard scarf  gender\n",
      "0      180.3000     196    Bald   Yes    No    Male\n",
      "1      170.0000     120    Long    No    No  Female\n",
      "2      178.5000     200   Short    No    No    Male\n",
      "3      163.4000     110  Medium    No   Yes  Female\n",
      "4      175.2222     220   Short   Yes    No    Male\n",
      "5      165.0000     150  Medium    No   Yes  Female\n",
      "\n",
      "\n",
      "\n",
      "Attributes Names in Train Dataset:\n",
      "==================================\n",
      "\n",
      "Index(['height', 'weight', 'hair', 'beard', 'scarf', 'gender'], dtype='object', name='index')\n",
      "\n",
      "\n",
      "\n",
      "Number of instances in Train Dataset:\n",
      "====================================\n",
      "Train Data instances:  6\n"
     ]
    }
   ],
   "source": [
    "TODO: YOUR CODE GOES HERE"
   ]
  },
  {
   "cell_type": "code",
   "execution_count": 6,
   "metadata": {},
   "outputs": [
    {
     "name": "stdout",
     "output_type": "stream",
     "text": [
      "\n",
      "\n",
      "\n",
      "Test Dataset:\n",
      "============\n",
      "\n",
      "index  height  weight    hair beard scarf  gender\n",
      "0       179.1     185    Long   Yes    No    Male\n",
      "1       160.5     130   Short    No    No  Female\n",
      "2       177.8     160    Bald    No    No    Male\n",
      "3       161.1     100  Medium    No    No  Female\n",
      "\n",
      "\n",
      "\n",
      "Attributes Names in Test Dataset :\n",
      "=================================\n",
      "\n",
      "Index(['height', 'weight', 'hair', 'beard', 'scarf', 'gender'], dtype='object', name='index')\n",
      "\n",
      "\n",
      "\n",
      "Number of instances in Test Dataset:\n",
      "===================================\n",
      "Test Data instances:  4\n"
     ]
    }
   ],
   "source": [
    "TODO: YOUR CODE GOES HERE"
   ]
  },
  {
   "cell_type": "code",
   "execution_count": 7,
   "metadata": {},
   "outputs": [
    {
     "name": "stdout",
     "output_type": "stream",
     "text": [
      "\n",
      " Train male instances : \" 3 \"\n",
      "=======================================\n",
      "\n",
      "index    height  weight   hair beard scarf gender\n",
      "0      180.3000     196   Bald   Yes    No   Male\n",
      "2      178.5000     200  Short    No    No   Male\n",
      "4      175.2222     220  Short   Yes    No   Male\n",
      "\n",
      "\n",
      "\n",
      " Train instances having label 'Female': \" 3 \"\n",
      "=============================================\n",
      "\n",
      "index  height  weight    hair beard scarf  gender\n",
      "1       170.0     120    Long    No    No  Female\n",
      "3       163.4     110  Medium    No   Yes  Female\n",
      "5       165.0     150  Medium    No   Yes  Female\n"
     ]
    }
   ],
   "source": [
    "TODO: YOUR CODE GOES HERE"
   ]
  },
  {
   "cell_type": "code",
   "execution_count": 8,
   "metadata": {},
   "outputs": [
    {
     "name": "stdout",
     "output_type": "stream",
     "text": [
      "\n",
      "\n",
      "\n",
      "Test instances having label 'Male': \" 2 \"\n",
      "==========================================\n",
      "\n",
      "index  height  weight  hair beard scarf gender\n",
      "0       179.1     185  Long   Yes    No   Male\n",
      "2       177.8     160  Bald    No    No   Male\n",
      "\n",
      "\n",
      "\n",
      "Test instances having label 'Female': \" 2 \"\n",
      "============================================\n",
      "\n",
      "index  height  weight    hair beard scarf  gender\n",
      "1       160.5     130   Short    No    No  Female\n",
      "3       161.1     100  Medium    No    No  Female\n"
     ]
    }
   ],
   "source": [
    "TODO: YOUR CODE GOES HERE"
   ]
  },
  {
   "cell_type": "markdown",
   "metadata": {},
   "source": [
    "### Uderstanding Data via Graphs"
   ]
  },
  {
   "cell_type": "code",
   "execution_count": 10,
   "metadata": {},
   "outputs": [
    {
     "name": "stdout",
     "output_type": "stream",
     "text": [
      "\n",
      "Total number of 'Males' and 'Females' in Train Dataset:\n",
      "================================================================================\n",
      "\n"
     ]
    },
    {
     "data": {
      "image/png": "[encoded data removed]",
      "text/plain": [
       "<Figure size 432x288 with 1 Axes>"
      ]
     },
     "metadata": {},
     "output_type": "display_data"
    }
   ],
   "source": [
    "TODO: YOUR CODE GOES HERE"
   ]
  },
  {
   "cell_type": "code",
   "execution_count": 11,
   "metadata": {},
   "outputs": [
    {
     "name": "stdout",
     "output_type": "stream",
     "text": [
      "\n",
      "Total number of 'Males' and 'Females' in Test Dataset\n",
      "======================================================\n",
      "\n"
     ]
    },
    {
     "data": {
      "image/png": "[encoded data removed]",
      "text/plain": [
       "<Figure size 432x288 with 1 Axes>"
      ]
     },
     "metadata": {},
     "output_type": "display_data"
    }
   ],
   "source": [
    "TODO: YOUR CODE GOES HERE"
   ]
  },
  {
   "cell_type": "code",
   "execution_count": 12,
   "metadata": {},
   "outputs": [
    {
     "name": "stdout",
     "output_type": "stream",
     "text": [
      "\n",
      "Number of people having various hair length in Train dataset:\n",
      "=============================================================\n",
      "\n"
     ]
    },
    {
     "data": {
      "text/plain": [
       "<matplotlib.axes._subplots.AxesSubplot at 0x7f7561537978>"
      ]
     },
     "execution_count": 12,
     "metadata": {},
     "output_type": "execute_result"
    },
    {
     "data": {
      "image/png": "[encoded data removed]",
      "text/plain": [
       "<Figure size 432x288 with 1 Axes>"
      ]
     },
     "metadata": {},
     "output_type": "display_data"
    }
   ],
   "source": [
    "TODO: YOUR CODE GOES HERE"
   ]
  },
  {
   "cell_type": "code",
   "execution_count": 13,
   "metadata": {},
   "outputs": [
    {
     "name": "stdout",
     "output_type": "stream",
     "text": [
      "\n",
      "Number of people having various hair length in Test dataset:\n",
      "===========================================================\n",
      "\n"
     ]
    },
    {
     "data": {
      "text/plain": [
       "<matplotlib.axes._subplots.AxesSubplot at 0x7f756157c978>"
      ]
     },
     "execution_count": 13,
     "metadata": {},
     "output_type": "execute_result"
    },
    {
     "data": {
      "image/png": "[encoded data removed]",
      "text/plain": [
       "<Figure size 432x288 with 1 Axes>"
      ]
     },
     "metadata": {},
     "output_type": "display_data"
    }
   ],
   "source": [
    "TODO: YOUR CODE GOES HERE"
   ]
  },
  {
   "cell_type": "code",
   "execution_count": 14,
   "metadata": {},
   "outputs": [
    {
     "name": "stdout",
     "output_type": "stream",
     "text": [
      "\n",
      "Number of people have/haven't beard in Train dataset:\n",
      "=====================================================\n",
      "\n"
     ]
    },
    {
     "data": {
      "text/plain": [
       "<matplotlib.axes._subplots.AxesSubplot at 0x7f75615f1b70>"
      ]
     },
     "execution_count": 14,
     "metadata": {},
     "output_type": "execute_result"
    },
    {
     "data": {
      "image/png": "[encoded data removed]",
      "text/plain": [
       "<Figure size 432x288 with 1 Axes>"
      ]
     },
     "metadata": {},
     "output_type": "display_data"
    }
   ],
   "source": [
    "TODO: YOUR CODE GOES HERE\n"
   ]
  },
  {
   "cell_type": "code",
   "execution_count": 15,
   "metadata": {},
   "outputs": [
    {
     "name": "stdout",
     "output_type": "stream",
     "text": [
      "\n",
      "Number of people have/haven't beard in Test dataset:\n",
      "====================================================\n",
      "\n"
     ]
    },
    {
     "data": {
      "text/plain": [
       "<matplotlib.axes._subplots.AxesSubplot at 0x7f75615047f0>"
      ]
     },
     "execution_count": 15,
     "metadata": {},
     "output_type": "execute_result"
    },
    {
     "data": {
      "image/png": "[encoded data removed]",
      "text/plain": [
       "<Figure size 432x288 with 1 Axes>"
      ]
     },
     "metadata": {},
     "output_type": "display_data"
    }
   ],
   "source": [
    "TODO: YOUR CODE GOES HERE\n"
   ]
  },
  {
   "cell_type": "markdown",
   "metadata": {},
   "source": [
    "### Step 2.3: Pre-Process Data"
   ]
  },
  {
   "cell_type": "code",
   "execution_count": 17,
   "metadata": {},
   "outputs": [
    {
     "name": "stdout",
     "output_type": "stream",
     "text": [
      "Train data before pre-processing:\n",
      "\n",
      "=====================================================\n",
      "\n",
      "index    height  weight    hair beard scarf  gender\n",
      "0      180.3000     196    Bald   Yes    No    Male\n",
      "1      170.0000     120    Long    No    No  Female\n",
      "2      178.5000     200   Short    No    No    Male\n",
      "3      163.4000     110  Medium    No   Yes  Female\n",
      "4      175.2222     220   Short   Yes    No    Male\n",
      "5      165.0000     150  Medium    No   Yes  Female\n",
      "\n",
      "\n",
      "Train data after pre-processing:\n",
      "\n",
      "=====================================================\n",
      "\n",
      "index  height  weight    hair beard scarf  gender\n",
      "0      180.30     196    Bald   Yes    No    Male\n",
      "1      170.00     120    Long    No    No  Female\n",
      "2      178.50     200   Short    No    No    Male\n",
      "3      163.40     110  Medium    No   Yes  Female\n",
      "4      175.22     220   Short   Yes    No    Male\n",
      "5      165.00     150  Medium    No   Yes  Female\n"
     ]
    }
   ],
   "source": [
    "TODO: YOUR CODE GOES HERE"
   ]
  },
  {
   "cell_type": "markdown",
   "metadata": {},
   "source": [
    "# Step 3: Label Encoding for Test/Train Data"
   ]
  },
  {
   "cell_type": "markdown",
   "metadata": {},
   "source": [
    "#### Label encoding train dataset"
   ]
  },
  {
   "cell_type": "code",
   "execution_count": 20,
   "metadata": {},
   "outputs": [
    {
     "name": "stdout",
     "output_type": "stream",
     "text": [
      "\n",
      "Gender attribute Label Encoding in Train dataset:\n",
      "================================================\n",
      "\n",
      "index  gender  encoded_gender\n",
      "0        Male               1\n",
      "1      Female               0\n",
      "2        Male               1\n",
      "3      Female               0\n",
      "4        Male               1\n",
      "5      Female               0\n",
      "\n",
      "\n",
      "\n",
      "Scarf attribute Label Encoding in Train dataset:\n",
      "===============================================\n",
      "\n",
      "index scarf  encoded_scarf\n",
      "0        No              0\n",
      "1        No              0\n",
      "2        No              0\n",
      "3       Yes              1\n",
      "4        No              0\n",
      "5       Yes              1\n",
      "\n",
      "\n",
      "\n",
      "Beard attribute Label Encoding in Train dataset:\n",
      "===============================================\n",
      "\n",
      "index beard  encoded_beard\n",
      "0       Yes              1\n",
      "1        No              0\n",
      "2        No              0\n",
      "3        No              0\n",
      "4       Yes              1\n",
      "5        No              0\n",
      "\n",
      "\n",
      "\n",
      "Hair attribute Label Encoding in Train dataset:\n",
      "===============================================\n",
      "\n",
      "index    hair  encoded_hair\n",
      "0        Bald             0\n",
      "1        Long             1\n",
      "2       Short             3\n",
      "3      Medium             2\n",
      "4       Short             3\n",
      "5      Medium             2\n"
     ]
    }
   ],
   "source": [
    "TODO: YOUR CODE GOES HERE"
   ]
  },
  {
   "cell_type": "code",
   "execution_count": 22,
   "metadata": {},
   "outputs": [
    {
     "name": "stdout",
     "output_type": "stream",
     "text": [
      "\n",
      "\n",
      "Original Train Data:\n",
      "\n",
      "===============================================\n",
      "\n",
      "index  height  weight    hair beard scarf  gender\n",
      "0      180.30     196    Bald   Yes    No    Male\n",
      "1      170.00     120    Long    No    No  Female\n",
      "2      178.50     200   Short    No    No    Male\n",
      "3      163.40     110  Medium    No   Yes  Female\n",
      "4      175.22     220   Short   Yes    No    Male\n",
      "5      165.00     150  Medium    No   Yes  Female\n",
      "\n",
      "\n",
      "Train Data after Label Encoding:\n",
      "\n",
      "===============================================\n",
      "\n",
      "index  height  weight  hair  beard  scarf  gender\n",
      "0      180.30     196     0      1      0       1\n",
      "1      170.00     120     1      0      0       0\n",
      "2      178.50     200     3      0      0       1\n",
      "3      163.40     110     2      0      1       0\n",
      "4      175.22     220     3      1      0       1\n",
      "5      165.00     150     2      0      1       0\n"
     ]
    }
   ],
   "source": [
    "TODO: YOUR CODE GOES HERE"
   ]
  },
  {
   "cell_type": "markdown",
   "metadata": {},
   "source": [
    "#### Label encoding test dataset"
   ]
  },
  {
   "cell_type": "code",
   "execution_count": 23,
   "metadata": {},
   "outputs": [
    {
     "name": "stdout",
     "output_type": "stream",
     "text": [
      "Original Test Data:\n",
      "\n",
      "===============================================\n",
      "\n",
      "index  height  weight    hair beard scarf  gender\n",
      "0       179.1     185    Long   Yes    No    Male\n",
      "1       160.5     130   Short    No    No  Female\n",
      "2       177.8     160    Bald    No    No    Male\n",
      "3       161.1     100  Medium    No    No  Female\n",
      "\n",
      "\n",
      "Test Data after Label Encoding:\n",
      "\n",
      "===============================================\n",
      "\n",
      "index  height  weight  hair  beard  scarf  gender\n",
      "0       179.1     185     1      1      0       1\n",
      "1       160.5     130     3      0      0       0\n",
      "2       177.8     160     0      0      0       1\n",
      "3       161.1     100     2      0      0       0\n"
     ]
    }
   ],
   "source": [
    "TODO: YOUR CODE GOES HERE"
   ]
  },
  {
   "cell_type": "markdown",
   "metadata": {},
   "source": [
    "# Step 4: Feature Extraction – Changing Representation of Data “from String to Vector”"
   ]
  },
  {
   "cell_type": "markdown",
   "metadata": {},
   "source": [
    "TODO: YOUR CODE GOES HERE"
   ]
  },
  {
   "cell_type": "markdown",
   "metadata": {},
   "source": [
    "# Step 5: Train Machine Learning Algorithms using Training Data"
   ]
  },
  {
   "cell_type": "code",
   "execution_count": 27,
   "metadata": {},
   "outputs": [
    {
     "name": "stdout",
     "output_type": "stream",
     "text": [
      "\n",
      "Parameters and their values:\n",
      "===========================\n",
      "\n",
      "LogisticRegression(C=1.0, class_weight=None, dual=False, fit_intercept=True,\n",
      "          intercept_scaling=1, max_iter=100, multi_class='ovr', n_jobs=1,\n",
      "          penalty='l2', random_state=None, solver='liblinear', tol=0.0001,\n",
      "          verbose=0, warm_start=False)\n"
     ]
    }
   ],
   "source": [
    "TODO: YOUR CODE GOES HERE\n"
   ]
  },
  {
   "cell_type": "code",
   "execution_count": 28,
   "metadata": {},
   "outputs": [
    {
     "name": "stdout",
     "output_type": "stream",
     "text": [
      "\n",
      "Parameters and their values:\n",
      "============================\n",
      "\n",
      "RandomForestClassifier(bootstrap=True, class_weight=None, criterion='gini',\n",
      "            max_depth=None, max_features='auto', max_leaf_nodes=None,\n",
      "            min_impurity_decrease=0.0, min_impurity_split=None,\n",
      "            min_samples_leaf=1, min_samples_split=2,\n",
      "            min_weight_fraction_leaf=0.0, n_estimators=10, n_jobs=1,\n",
      "            oob_score=False, random_state=None, verbose=0,\n",
      "            warm_start=False)\n"
     ]
    }
   ],
   "source": [
    "TODO: YOUR CODE GOES HERE"
   ]
  },
  {
   "cell_type": "code",
   "execution_count": 29,
   "metadata": {},
   "outputs": [
    {
     "name": "stdout",
     "output_type": "stream",
     "text": [
      "\n",
      "Parameters and their values:\n",
      "===========================\n",
      "\n",
      "LinearSVC(C=1.0, class_weight=None, dual=True, fit_intercept=True,\n",
      "     intercept_scaling=1, loss='squared_hinge', max_iter=1000,\n",
      "     multi_class='ovr', penalty='l2', random_state=None, tol=0.0001,\n",
      "     verbose=0)\n"
     ]
    }
   ],
   "source": [
    "TODO: YOUR CODE GOES HERE"
   ]
  },
  {
   "cell_type": "code",
   "execution_count": 30,
   "metadata": {},
   "outputs": [
    {
     "name": "stdout",
     "output_type": "stream",
     "text": [
      "\n",
      "Parameters and their values:\n",
      "============================\n",
      "\n",
      "BernoulliNB(alpha=1.0, binarize=0.0, class_prior=None, fit_prior=True)\n"
     ]
    }
   ],
   "source": [
    "TODO: YOUR CODE GOES HERE"
   ]
  },
  {
   "cell_type": "markdown",
   "metadata": {},
   "source": [
    "# Step 6: Evaluate Machine Learning Algorithms using Test Data"
   ]
  },
  {
   "cell_type": "code",
   "execution_count": 32,
   "metadata": {},
   "outputs": [
    {
     "name": "stdout",
     "output_type": "stream",
     "text": [
      "\n",
      "Prediction using Logistic Regression:\n",
      "=====================================\n",
      "\n",
      "index  height  weight    hair beard scarf  gender predicted_gender\n",
      "0       179.1     185    Long   Yes    No    Male             Male\n",
      "1       160.5     130   Short    No    No  Female           Female\n",
      "2       177.8     160    Bald    No    No    Male           Female\n",
      "3       161.1     100  Medium    No    No  Female           Female\n",
      "\n",
      "\n",
      "Accuracy score : \n",
      "===============\n",
      "0.75\n"
     ]
    }
   ],
   "source": [
    "TODO: YOUR CODE GOES HERE"
   ]
  },
  {
   "cell_type": "code",
   "execution_count": 33,
   "metadata": {},
   "outputs": [
    {
     "name": "stdout",
     "output_type": "stream",
     "text": [
      "\n",
      "Prediction using RandomForestClassifier:\n",
      "========================================\n",
      "\n",
      "index  height  weight    hair beard scarf  gender predicted_gender\n",
      "0       179.1     185    Long   Yes    No    Male             Male\n",
      "1       160.5     130   Short    No    No  Female           Female\n",
      "2       177.8     160    Bald    No    No    Male           Female\n",
      "3       161.1     100  Medium    No    No  Female           Female\n",
      "\n",
      "\n",
      "Accuracy score : \n",
      "===============\n",
      "0.75\n"
     ]
    }
   ],
   "source": [
    "TODO: YOUR CODE GOES HERE\n"
   ]
  },
  {
   "cell_type": "code",
   "execution_count": 34,
   "metadata": {},
   "outputs": [
    {
     "name": "stdout",
     "output_type": "stream",
     "text": [
      "\n",
      "Prediction using LinearSVC:\n",
      "==========================\n",
      "\n",
      "index  height  weight    hair beard scarf  gender predicted_gender\n",
      "0       179.1     185    Long   Yes    No    Male             Male\n",
      "1       160.5     130   Short    No    No  Female           Female\n",
      "2       177.8     160    Bald    No    No    Male           Female\n",
      "3       161.1     100  Medium    No    No  Female           Female\n",
      "\n",
      "\n",
      "Accuracy score : \n",
      "===============\n",
      "0.75\n"
     ]
    }
   ],
   "source": [
    "TODO: YOUR CODE GOES HERE"
   ]
  },
  {
   "cell_type": "code",
   "execution_count": 35,
   "metadata": {},
   "outputs": [
    {
     "name": "stdout",
     "output_type": "stream",
     "text": [
      "\n",
      "Prediction using BernoulliNB:\n",
      "============================\n",
      "\n",
      "index  height  weight    hair beard scarf  gender predicted_gender\n",
      "0       179.1     185    Long   Yes    No    Male             Male\n",
      "1       160.5     130   Short    No    No  Female           Female\n",
      "2       177.8     160    Bald    No    No    Male             Male\n",
      "3       161.1     100  Medium    No    No  Female           Female\n",
      "\n",
      "\n",
      "Accuracy score : \n",
      "===============\n",
      "1.0\n"
     ]
    }
   ],
   "source": [
    "TODO: YOUR CODE GOES HERE\n"
   ]
  },
  {
   "cell_type": "markdown",
   "metadata": {},
   "source": [
    "# Step 7: Selection of Best Model"
   ]
  },
  {
   "cell_type": "code",
   "execution_count": 37,
   "metadata": {},
   "outputs": [
    {
     "name": "stdout",
     "output_type": "stream",
     "text": [
      "\n",
      "\n",
      "Detailed Performance of all the models.\n",
      "=======================================\n",
      "\n",
      "+------------------------+----------+\n",
      "|         Model          | Accuracy |\n",
      "+------------------------+----------+\n",
      "|   LogisticRegression   |   0.75   |\n",
      "| RandomForestClassifier |   0.75   |\n",
      "|       LinearSVC        |   0.75   |\n",
      "|      BernoulliNB       |   1.0    |\n",
      "+------------------------+----------+\n",
      "\n",
      "\n",
      "Best Model.\n",
      "========================================\n",
      "+-------------+----------+\n",
      "|    Models   | Accuracy |\n",
      "+-------------+----------+\n",
      "| BernoulliNB |   1.0    |\n",
      "+-------------+----------+\n"
     ]
    }
   ],
   "source": [
    "TODO: YOUR CODE GOES HERE"
   ]
  },
  {
   "cell_type": "markdown",
   "metadata": {},
   "source": [
    "# PHASE 3: APPLICATION PHASE"
   ]
  },
  {
   "cell_type": "markdown",
   "metadata": {},
   "source": [
    "# Step 8: Application Phase"
   ]
  },
  {
   "cell_type": "markdown",
   "metadata": {},
   "source": [
    "### Step 8.1: Combine Data (Train+Test)"
   ]
  },
  {
   "cell_type": "code",
   "execution_count": 39,
   "metadata": {},
   "outputs": [
    {
     "name": "stdout",
     "output_type": "stream",
     "text": [
      "Train Features in form of Dataframe:\n",
      "=======================================\n",
      "\n",
      "index  height  weight  hair  beard  scarf  gender\n",
      "0      180.30     196     0      1      0       1\n",
      "1      170.00     120     1      0      0       0\n",
      "2      178.50     200     3      0      0       1\n",
      "3      163.40     110     2      0      1       0\n",
      "4      175.22     220     3      1      0       1\n",
      "5      165.00     150     2      0      1       0\n"
     ]
    }
   ],
   "source": [
    "TODO: YOUR CODE GOES HERE"
   ]
  },
  {
   "cell_type": "code",
   "execution_count": 40,
   "metadata": {},
   "outputs": [
    {
     "name": "stdout",
     "output_type": "stream",
     "text": [
      "Test Features in form of Dataframe:\n",
      "=======================================\n",
      "\n",
      "index  height  weight  hair  beard  scarf  gender\n",
      "0       179.1     185     1      1      0       1\n",
      "1       160.5     130     3      0      0       0\n",
      "2       177.8     160     0      0      0       1\n",
      "3       161.1     100     2      0      0       0\n"
     ]
    }
   ],
   "source": [
    "TODO: YOUR CODE GOES HERE"
   ]
  },
  {
   "cell_type": "code",
   "execution_count": 41,
   "metadata": {},
   "outputs": [
    {
     "name": "stdout",
     "output_type": "stream",
     "text": [
      "\n",
      "\n",
      "\n",
      "All Train and Test Dataset Features in form of DataFrame:\n",
      "========================================================\n",
      "\n",
      "index  height  weight  hair  beard  scarf  gender\n",
      "0      180.30     196     0      1      0       1\n",
      "1      170.00     120     1      0      0       0\n",
      "2      178.50     200     3      0      0       1\n",
      "3      163.40     110     2      0      1       0\n",
      "4      175.22     220     3      1      0       1\n",
      "5      165.00     150     2      0      1       0\n",
      "0      179.10     185     1      1      0       1\n",
      "1      160.50     130     3      0      0       0\n",
      "2      177.80     160     0      0      0       1\n",
      "3      161.10     100     2      0      0       0\n"
     ]
    }
   ],
   "source": [
    "TODO: YOUR CODE GOES HERE"
   ]
  },
  {
   "cell_type": "markdown",
   "metadata": {},
   "source": [
    "### Step 8.2: Train Best Model (see Step 7) on all features (Train+Test)"
   ]
  },
  {
   "cell_type": "code",
   "execution_count": 43,
   "metadata": {},
   "outputs": [
    {
     "data": {
      "text/plain": [
       "BernoulliNB(alpha=1.0, binarize=0.0, class_prior=None, fit_prior=True)"
      ]
     },
     "execution_count": 43,
     "metadata": {},
     "output_type": "execute_result"
    }
   ],
   "source": [
    "TODO: YOUR CODE GOES HERE\n"
   ]
  },
  {
   "cell_type": "markdown",
   "metadata": {},
   "source": [
    "### Step 8.3: Save the trained model in Pickle file "
   ]
  },
  {
   "cell_type": "code",
   "execution_count": 45,
   "metadata": {},
   "outputs": [],
   "source": [
    "TODO: YOUR CODE GOES HERE"
   ]
  },
  {
   "cell_type": "markdown",
   "metadata": {},
   "source": [
    "# Step 9: Make prediction on unseen/new data"
   ]
  },
  {
   "cell_type": "markdown",
   "metadata": {},
   "source": [
    "### Step 9.1: Load the Trained Model (saved in Step 8.3) "
   ]
  },
  {
   "cell_type": "code",
   "execution_count": 47,
   "metadata": {},
   "outputs": [],
   "source": [
    "TODO: YOUR CODE GOES HERE\n"
   ]
  },
  {
   "cell_type": "markdown",
   "metadata": {},
   "source": [
    "### Step 9.2: Take Input from User"
   ]
  },
  {
   "cell_type": "code",
   "execution_count": 49,
   "metadata": {},
   "outputs": [
    {
     "name": "stdout",
     "output_type": "stream",
     "text": [
      "Please enter your Height here (centimeter): 150\n",
      "Please enter your Weight here(kg): 30\n",
      "Please enter your Hair Length here (Bald/Long/Short/Medium): Medium\n",
      "Do you have beard? (Yes/No): No\n",
      "Do you wear Scarf? (Yes/No): No\n"
     ]
    }
   ],
   "source": [
    "TODO: YOUR CODE GOES HERE"
   ]
  },
  {
   "cell_type": "markdown",
   "metadata": {},
   "source": [
    "### Step 9.3: Convert User Input into Feature Vector (Same as Feature Vector of Trained Model) "
   ]
  },
  {
   "cell_type": "code",
   "execution_count": 51,
   "metadata": {},
   "outputs": [
    {
     "name": "stdout",
     "output_type": "stream",
     "text": [
      "\n",
      "User input in Actual DataFrame form:\n",
      "====================================\n",
      "\n",
      "   height  weight    hair beard scarf\n",
      "0   150.0      30  Medium    No    No\n"
     ]
    }
   ],
   "source": [
    "TODO: YOUR CODE GOES HERE"
   ]
  },
  {
   "cell_type": "code",
   "execution_count": 52,
   "metadata": {},
   "outputs": [
    {
     "name": "stdout",
     "output_type": "stream",
     "text": [
      "\n",
      "User input in Actual DataFrame form:\n",
      "\n",
      "====================================\n",
      "\n",
      "   height  weight    hair beard scarf\n",
      "0   150.0      30  Medium    No    No\n",
      "\n",
      "\n",
      "User input in Encoded DataFrame form:\n",
      "====================================\n",
      "\n",
      "   height  weight  hair  beard  scarf\n",
      "0   150.0      30     2      0      0\n"
     ]
    }
   ],
   "source": [
    "TODO: YOUR CODE GOES HERE"
   ]
  },
  {
   "cell_type": "markdown",
   "metadata": {},
   "source": [
    "### Step 9.4: Apply Trained Model on Feature Vector of Unseen Data and Output Prediction (Male/Female) to User"
   ]
  },
  {
   "cell_type": "code",
   "execution_count": 54,
   "metadata": {},
   "outputs": [
    {
     "name": "stdout",
     "output_type": "stream",
     "text": [
      "+--------------------------------+\n",
      "|        ** Prediction **        |\n",
      "+--------------------------------+\n",
      "|             Female             |\n",
      "+--------------------------------+\n"
     ]
    }
   ],
   "source": [
    "TODO: YOUR CODE GOES HERE"
   ]
  },
  {
   "cell_type": "markdown",
   "metadata": {},
   "source": [
    "<center><h3> End of the Tutorial </h3></center>"
   ]
  }
 ],
 "metadata": {
  "kernelspec": {
   "display_name": "Python 3 (ipykernel)",
   "language": "python",
   "name": "python3"
  },
  "language_info": {
   "codemirror_mode": {
    "name": "ipython",
    "version": 3
   },
   "file_extension": ".py",
   "mimetype": "text/x-python",
   "name": "python",
   "nbconvert_exporter": "python",
   "pygments_lexer": "ipython3",
   "version": "3.11.5"
  }
 },
 "nbformat": 4,
 "nbformat_minor": 2
}
